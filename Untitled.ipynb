{
 "cells": [
  {
   "cell_type": "code",
   "execution_count": 1,
   "id": "1086d852",
   "metadata": {},
   "outputs": [],
   "source": [
    "import pytube\n",
    "from pytube import Playlist"
   ]
  },
  {
   "cell_type": "code",
   "execution_count": 14,
   "id": "3c96571b",
   "metadata": {},
   "outputs": [],
   "source": [
    "url='https://youtu.be/LXsdt6RMNfY?si=PeGbEw3dj7Ed_ddK'"
   ]
  },
  {
   "cell_type": "code",
   "execution_count": 16,
   "id": "519097fc",
   "metadata": {},
   "outputs": [],
   "source": [
    "video=pytube.YouTube(url)"
   ]
  },
  {
   "cell_type": "code",
   "execution_count": 19,
   "id": "20ac636a",
   "metadata": {},
   "outputs": [],
   "source": [
    "stream= video.streams.get_audio_only()"
   ]
  },
  {
   "cell_type": "code",
   "execution_count": 20,
   "id": "88377dac",
   "metadata": {},
   "outputs": [
    {
     "data": {
      "text/plain": [
       "'C:\\\\ML Projects\\\\YouTube-audio substractor\\\\Automating My Life with Python The Ultimate Guide  Code With Me.mp4'"
      ]
     },
     "execution_count": 20,
     "metadata": {},
     "output_type": "execute_result"
    }
   ],
   "source": [
    "stream.download()"
   ]
  },
  {
   "cell_type": "code",
   "execution_count": null,
   "id": "5819b3c2",
   "metadata": {},
   "outputs": [
    {
     "ename": "",
     "evalue": "",
     "output_type": "error",
     "traceback": [
      "\u001b[1;31mRunning cells with 'youtube' requires the ipykernel package.\n",
      "\u001b[1;31mRun the following command to install 'ipykernel' into the Python environment. \n",
      "\u001b[1;31mCommand: 'conda install -n youtube ipykernel --update-deps --force-reinstall'"
     ]
    }
   ],
   "source": [
    "from app import playlist_downloader"
   ]
  },
  {
   "cell_type": "code",
   "execution_count": null,
   "metadata": {},
   "outputs": [],
   "source": []
  }
 ],
 "metadata": {
  "kernelspec": {
   "display_name": "Python 3 (ipykernel)",
   "language": "python",
   "name": "python3"
  },
  "language_info": {
   "codemirror_mode": {
    "name": "ipython",
    "version": 3
   },
   "file_extension": ".py",
   "mimetype": "text/x-python",
   "name": "python",
   "nbconvert_exporter": "python",
   "pygments_lexer": "ipython3",
   "version": "3.11.5"
  }
 },
 "nbformat": 4,
 "nbformat_minor": 5
}
