{
 "cells": [
  {
   "cell_type": "code",
   "execution_count": 21,
   "id": "5dbd39b3",
   "metadata": {},
   "outputs": [],
   "source": [
    "import pytube\n",
    "from pytube import Playlist"
   ]
  },
  {
   "cell_type": "code",
   "execution_count": 31,
   "id": "38af99a5",
   "metadata": {},
   "outputs": [],
   "source": [
    "# !pip install python-telegram-bot"
   ]
  },
  {
   "cell_type": "code",
   "execution_count": 14,
   "id": "e243f402",
   "metadata": {},
   "outputs": [],
   "source": [
    "url='https://youtu.be/LXsdt6RMNfY?si=PeGbEw3dj7Ed_ddK'"
   ]
  },
  {
   "cell_type": "code",
   "execution_count": 16,
   "id": "828d920d",
   "metadata": {},
   "outputs": [],
   "source": [
    "video=pytube.YouTube(url)"
   ]
  },
  {
   "cell_type": "code",
   "execution_count": 19,
   "id": "dabd4aec",
   "metadata": {},
   "outputs": [],
   "source": [
    "stream= video.streams.get_audio_only()"
   ]
  },
  {
   "cell_type": "code",
   "execution_count": 20,
   "id": "de8cb12c",
   "metadata": {},
   "outputs": [
    {
     "data": {
      "text/plain": [
       "'C:\\\\ML Projects\\\\YouTube-audio substractor\\\\Automating My Life with Python The Ultimate Guide  Code With Me.mp4'"
      ]
     },
     "execution_count": 20,
     "metadata": {},
     "output_type": "execute_result"
    }
   ],
   "source": [
    "stream.download()"
   ]
  },
  {
   "cell_type": "code",
   "execution_count": null,
   "id": "376377b4",
   "metadata": {},
   "outputs": [],
   "source": []
  },
  {
   "cell_type": "code",
   "execution_count": null,
   "id": "8b84803f",
   "metadata": {},
   "outputs": [],
   "source": []
  },
  {
   "cell_type": "code",
   "execution_count": 25,
   "id": "70172a3a",
   "metadata": {},
   "outputs": [],
   "source": [
    "playlist_1='https://youtube.com/playlist?list=PL2JtvykrieUxaLXkeuXRHb-pJB9XpVWtd&si=mNLrbfbpVpKZzGPn'"
   ]
  },
  {
   "cell_type": "code",
   "execution_count": 27,
   "id": "e1ef3c0c",
   "metadata": {},
   "outputs": [],
   "source": [
    "video=Playlist(playlist_1)"
   ]
  },
  {
   "cell_type": "code",
   "execution_count": 29,
   "id": "73c4f087",
   "metadata": {},
   "outputs": [],
   "source": [
    "for i in video.videos:\n",
    "    stream=i.streams.get_audio_only()\n",
    "    stream.download()"
   ]
  },
  {
   "cell_type": "code",
   "execution_count": 34,
   "id": "1eddeda8",
   "metadata": {},
   "outputs": [
    {
     "name": "stdout",
     "output_type": "stream",
     "text": [
      "Name: python-telegram-bot\n",
      "Version: 20.6\n",
      "Summary: We have made you a wrapper you can't refuse\n",
      "Home-page: https://python-telegram-bot.org/\n",
      "Author: Leandro Toledo\n",
      "Author-email: devs@python-telegram-bot.org\n",
      "License: LGPLv3\n",
      "Location: C:\\Users\\ACER\\anaconda3\\Lib\\site-packages\n",
      "Requires: httpx\n",
      "Required-by: \n",
      "Note: you may need to restart the kernel to use updated packages.\n"
     ]
    }
   ],
   "source": [
    "pip show python-telegram-bot"
   ]
  },
  {
   "cell_type": "code",
   "execution_count": 36,
   "id": "9be5c0a4",
   "metadata": {},
   "outputs": [
    {
     "ename": "ModuleNotFoundError",
     "evalue": "No module named 'telegram.ext'; 'telegram' is not a package",
     "output_type": "error",
     "traceback": [
      "\u001b[1;31m---------------------------------------------------------------------------\u001b[0m",
      "\u001b[1;31mModuleNotFoundError\u001b[0m                       Traceback (most recent call last)",
      "Cell \u001b[1;32mIn[36], line 1\u001b[0m\n\u001b[1;32m----> 1\u001b[0m \u001b[38;5;28;01mimport\u001b[39;00m \u001b[38;5;21;01mtelegram\u001b[39;00m\u001b[38;5;21;01m.\u001b[39;00m\u001b[38;5;21;01mext\u001b[39;00m\n",
      "File \u001b[1;32mC:\\ML Projects\\YouTube-audio substractor\\telegram.py:1\u001b[0m\n\u001b[1;32m----> 1\u001b[0m \u001b[38;5;28;01mfrom\u001b[39;00m \u001b[38;5;21;01mtelegram\u001b[39;00m\u001b[38;5;21;01m.\u001b[39;00m\u001b[38;5;21;01mext\u001b[39;00m \u001b[38;5;28;01mimport\u001b[39;00m Updater, CommandHandler, MessageHandler, Filters\n\u001b[0;32m      2\u001b[0m \u001b[38;5;28;01mfrom\u001b[39;00m \u001b[38;5;21;01mpytube\u001b[39;00m \u001b[38;5;28;01mimport\u001b[39;00m YouTube\n\u001b[0;32m      4\u001b[0m \u001b[38;5;66;03m# Replace 'YOUR_BOT_TOKEN' with the token you obtained from BotFather\u001b[39;00m\n",
      "\u001b[1;31mModuleNotFoundError\u001b[0m: No module named 'telegram.ext'; 'telegram' is not a package"
     ]
    }
   ],
   "source": [
    "import telegram.ext"
   ]
  },
  {
   "cell_type": "code",
   "execution_count": 32,
   "id": "4626135e",
   "metadata": {},
   "outputs": [
    {
     "ename": "ModuleNotFoundError",
     "evalue": "No module named 'telegram.ext'; 'telegram' is not a package",
     "output_type": "error",
     "traceback": [
      "\u001b[1;31m---------------------------------------------------------------------------\u001b[0m",
      "\u001b[1;31mModuleNotFoundError\u001b[0m                       Traceback (most recent call last)",
      "Cell \u001b[1;32mIn[32], line 1\u001b[0m\n\u001b[1;32m----> 1\u001b[0m \u001b[38;5;28;01mfrom\u001b[39;00m \u001b[38;5;21;01mtelegram\u001b[39;00m\u001b[38;5;21;01m.\u001b[39;00m\u001b[38;5;21;01mext\u001b[39;00m \u001b[38;5;28;01mimport\u001b[39;00m Updater, CommandHandler, MessageHandler, Filters\n\u001b[0;32m      2\u001b[0m \u001b[38;5;28;01mfrom\u001b[39;00m \u001b[38;5;21;01mpytube\u001b[39;00m \u001b[38;5;28;01mimport\u001b[39;00m YouTube\n\u001b[0;32m      4\u001b[0m \u001b[38;5;66;03m# Replace 'YOUR_BOT_TOKEN' with the token you obtained from BotFather\u001b[39;00m\n",
      "File \u001b[1;32mC:\\ML Projects\\YouTube-audio substractor\\telegram.py:1\u001b[0m\n\u001b[1;32m----> 1\u001b[0m \u001b[38;5;28;01mfrom\u001b[39;00m \u001b[38;5;21;01mtelegram\u001b[39;00m\u001b[38;5;21;01m.\u001b[39;00m\u001b[38;5;21;01mext\u001b[39;00m \u001b[38;5;28;01mimport\u001b[39;00m Updater, CommandHandler, MessageHandler, Filters\n\u001b[0;32m      2\u001b[0m \u001b[38;5;28;01mfrom\u001b[39;00m \u001b[38;5;21;01mpytube\u001b[39;00m \u001b[38;5;28;01mimport\u001b[39;00m YouTube\n\u001b[0;32m      4\u001b[0m \u001b[38;5;66;03m# Replace 'YOUR_BOT_TOKEN' with the token you obtained from BotFather\u001b[39;00m\n",
      "\u001b[1;31mModuleNotFoundError\u001b[0m: No module named 'telegram.ext'; 'telegram' is not a package"
     ]
    }
   ],
   "source": [
    "from telegram.ext import Updater, CommandHandler, MessageHandler, Filters\n",
    "from pytube import YouTube\n",
    "\n",
    "# Replace 'YOUR_BOT_TOKEN' with the token you obtained from BotFather\n",
    "TOKEN = '6806724985:AAGGanOXIRqj3bhorMXKoSgZN8TtE8kz-VA'\n",
    "\n",
    "def start(update, context):\n",
    "    update.message.reply_text(\"Welcome! Send me a YouTube video URL, and I'll provide you with the video.\")\n",
    "\n",
    "def download_video(update, context):\n",
    "    # Get the user's message (URL)\n",
    "    url = update.message.text\n",
    "\n",
    "    try:\n",
    "        # Create a YouTube object\n",
    "        yt = YouTube(url)\n",
    "\n",
    "        # Get the highest resolution stream\n",
    "        video_stream = yt.streams.get_highest_resolution()\n",
    "\n",
    "        # Download the video\n",
    "        video_stream.download()\n",
    " \n",
    "        # Send the video to the user\n",
    "        update.message.reply_video(video_stream.file_path)\n",
    "\n",
    "    except Exception as e:\n",
    "        update.message.reply_text(f\"Error: {e}\")\n",
    "\n",
    "def main():\n",
    "    updater = Updater(token=TOKEN, use_context=True)\n",
    "    dispatcher = updater.dispatcher\n",
    "\n",
    "    # Add command handlers\n",
    "    start_handler = CommandHandler('start', start)\n",
    "    dispatcher.add_handler(start_handler)\n",
    "\n",
    "    # Add message handler for any text\n",
    "    message_handler = MessageHandler(Filters.text & ~Filters.command, download_video)\n",
    "    dispatcher.add_handler(message_handler)\n",
    "\n",
    "    # Start the bot\n",
    "    updater.start_polling()\n",
    "    updater.idle()\n",
    "\n",
    "if __name__ == '__main__':\n",
    "    main()\n"
   ]
  },
  {
   "cell_type": "code",
   "execution_count": null,
   "id": "0e8c4901",
   "metadata": {},
   "outputs": [],
   "source": []
  }
 ],
 "metadata": {
  "kernelspec": {
   "display_name": "Python 3 (ipykernel)",
   "language": "python",
   "name": "python3"
  },
  "language_info": {
   "codemirror_mode": {
    "name": "ipython",
    "version": 3
   },
   "file_extension": ".py",
   "mimetype": "text/x-python",
   "name": "python",
   "nbconvert_exporter": "python",
   "pygments_lexer": "ipython3",
   "version": "3.11.5"
  }
 },
 "nbformat": 4,
 "nbformat_minor": 5
}
